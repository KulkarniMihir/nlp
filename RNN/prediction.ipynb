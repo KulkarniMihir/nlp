{
 "cells": [
  {
   "cell_type": "code",
   "execution_count": 1,
   "metadata": {},
   "outputs": [],
   "source": [
    "# Step 1: Import Libraries and Load the Model\n",
    "import numpy as np\n",
    "import tensorflow as tf\n",
    "\n",
    "from tensorflow.keras.datasets import imdb\n",
    "from tensorflow.keras.preprocessing import sequence\n",
    "from tensorflow.keras.models import load_model"
   ]
  },
  {
   "cell_type": "code",
   "execution_count": 2,
   "metadata": {},
   "outputs": [],
   "source": [
    "\n",
    "# Load the IMDB dataset word index\n",
    "word_index = imdb.get_word_index()\n",
    "reverse_word_index = {value: key for key, value in word_index.items()}"
   ]
  },
  {
   "cell_type": "code",
   "execution_count": 18,
   "metadata": {},
   "outputs": [
    {
     "name": "stderr",
     "output_type": "stream",
     "text": [
      "WARNING:absl:Compiled the loaded model, but the compiled metrics have yet to be built. `model.compile_metrics` will be empty until you train or evaluate the model.\n"
     ]
    },
    {
     "data": {
      "text/html": [
       "<pre style=\"white-space:pre;overflow-x:auto;line-height:normal;font-family:Menlo,'DejaVu Sans Mono',consolas,'Courier New',monospace\"><span style=\"font-weight: bold\">Model: \"sequential\"</span>\n",
       "</pre>\n"
      ],
      "text/plain": [
       "\u001b[1mModel: \"sequential\"\u001b[0m\n"
      ]
     },
     "metadata": {},
     "output_type": "display_data"
    },
    {
     "data": {
      "text/html": [
       "<pre style=\"white-space:pre;overflow-x:auto;line-height:normal;font-family:Menlo,'DejaVu Sans Mono',consolas,'Courier New',monospace\">┏━━━━━━━━━━━━━━━━━━━━━━━━━━━━━━━━━┳━━━━━━━━━━━━━━━━━━━━━━━━┳━━━━━━━━━━━━━━━┓\n",
       "┃<span style=\"font-weight: bold\"> Layer (type)                    </span>┃<span style=\"font-weight: bold\"> Output Shape           </span>┃<span style=\"font-weight: bold\">       Param # </span>┃\n",
       "┡━━━━━━━━━━━━━━━━━━━━━━━━━━━━━━━━━╇━━━━━━━━━━━━━━━━━━━━━━━━╇━━━━━━━━━━━━━━━┩\n",
       "│ embedding (<span style=\"color: #0087ff; text-decoration-color: #0087ff\">Embedding</span>)           │ (<span style=\"color: #00af00; text-decoration-color: #00af00\">32</span>, <span style=\"color: #00af00; text-decoration-color: #00af00\">500</span>, <span style=\"color: #00af00; text-decoration-color: #00af00\">128</span>)         │     <span style=\"color: #00af00; text-decoration-color: #00af00\">1,280,000</span> │\n",
       "├─────────────────────────────────┼────────────────────────┼───────────────┤\n",
       "│ simple_rnn (<span style=\"color: #0087ff; text-decoration-color: #0087ff\">SimpleRNN</span>)          │ (<span style=\"color: #00af00; text-decoration-color: #00af00\">32</span>, <span style=\"color: #00af00; text-decoration-color: #00af00\">128</span>)              │        <span style=\"color: #00af00; text-decoration-color: #00af00\">32,896</span> │\n",
       "├─────────────────────────────────┼────────────────────────┼───────────────┤\n",
       "│ dense (<span style=\"color: #0087ff; text-decoration-color: #0087ff\">Dense</span>)                   │ (<span style=\"color: #00af00; text-decoration-color: #00af00\">32</span>, <span style=\"color: #00af00; text-decoration-color: #00af00\">1</span>)                │           <span style=\"color: #00af00; text-decoration-color: #00af00\">129</span> │\n",
       "└─────────────────────────────────┴────────────────────────┴───────────────┘\n",
       "</pre>\n"
      ],
      "text/plain": [
       "┏━━━━━━━━━━━━━━━━━━━━━━━━━━━━━━━━━┳━━━━━━━━━━━━━━━━━━━━━━━━┳━━━━━━━━━━━━━━━┓\n",
       "┃\u001b[1m \u001b[0m\u001b[1mLayer (type)                   \u001b[0m\u001b[1m \u001b[0m┃\u001b[1m \u001b[0m\u001b[1mOutput Shape          \u001b[0m\u001b[1m \u001b[0m┃\u001b[1m \u001b[0m\u001b[1m      Param #\u001b[0m\u001b[1m \u001b[0m┃\n",
       "┡━━━━━━━━━━━━━━━━━━━━━━━━━━━━━━━━━╇━━━━━━━━━━━━━━━━━━━━━━━━╇━━━━━━━━━━━━━━━┩\n",
       "│ embedding (\u001b[38;5;33mEmbedding\u001b[0m)           │ (\u001b[38;5;34m32\u001b[0m, \u001b[38;5;34m500\u001b[0m, \u001b[38;5;34m128\u001b[0m)         │     \u001b[38;5;34m1,280,000\u001b[0m │\n",
       "├─────────────────────────────────┼────────────────────────┼───────────────┤\n",
       "│ simple_rnn (\u001b[38;5;33mSimpleRNN\u001b[0m)          │ (\u001b[38;5;34m32\u001b[0m, \u001b[38;5;34m128\u001b[0m)              │        \u001b[38;5;34m32,896\u001b[0m │\n",
       "├─────────────────────────────────┼────────────────────────┼───────────────┤\n",
       "│ dense (\u001b[38;5;33mDense\u001b[0m)                   │ (\u001b[38;5;34m32\u001b[0m, \u001b[38;5;34m1\u001b[0m)                │           \u001b[38;5;34m129\u001b[0m │\n",
       "└─────────────────────────────────┴────────────────────────┴───────────────┘\n"
      ]
     },
     "metadata": {},
     "output_type": "display_data"
    },
    {
     "data": {
      "text/html": [
       "<pre style=\"white-space:pre;overflow-x:auto;line-height:normal;font-family:Menlo,'DejaVu Sans Mono',consolas,'Courier New',monospace\"><span style=\"font-weight: bold\"> Total params: </span><span style=\"color: #00af00; text-decoration-color: #00af00\">1,313,027</span> (5.01 MB)\n",
       "</pre>\n"
      ],
      "text/plain": [
       "\u001b[1m Total params: \u001b[0m\u001b[38;5;34m1,313,027\u001b[0m (5.01 MB)\n"
      ]
     },
     "metadata": {},
     "output_type": "display_data"
    },
    {
     "data": {
      "text/html": [
       "<pre style=\"white-space:pre;overflow-x:auto;line-height:normal;font-family:Menlo,'DejaVu Sans Mono',consolas,'Courier New',monospace\"><span style=\"font-weight: bold\"> Trainable params: </span><span style=\"color: #00af00; text-decoration-color: #00af00\">1,313,025</span> (5.01 MB)\n",
       "</pre>\n"
      ],
      "text/plain": [
       "\u001b[1m Trainable params: \u001b[0m\u001b[38;5;34m1,313,025\u001b[0m (5.01 MB)\n"
      ]
     },
     "metadata": {},
     "output_type": "display_data"
    },
    {
     "data": {
      "text/html": [
       "<pre style=\"white-space:pre;overflow-x:auto;line-height:normal;font-family:Menlo,'DejaVu Sans Mono',consolas,'Courier New',monospace\"><span style=\"font-weight: bold\"> Non-trainable params: </span><span style=\"color: #00af00; text-decoration-color: #00af00\">0</span> (0.00 B)\n",
       "</pre>\n"
      ],
      "text/plain": [
       "\u001b[1m Non-trainable params: \u001b[0m\u001b[38;5;34m0\u001b[0m (0.00 B)\n"
      ]
     },
     "metadata": {},
     "output_type": "display_data"
    },
    {
     "data": {
      "text/html": [
       "<pre style=\"white-space:pre;overflow-x:auto;line-height:normal;font-family:Menlo,'DejaVu Sans Mono',consolas,'Courier New',monospace\"><span style=\"font-weight: bold\"> Optimizer params: </span><span style=\"color: #00af00; text-decoration-color: #00af00\">2</span> (12.00 B)\n",
       "</pre>\n"
      ],
      "text/plain": [
       "\u001b[1m Optimizer params: \u001b[0m\u001b[38;5;34m2\u001b[0m (12.00 B)\n"
      ]
     },
     "metadata": {},
     "output_type": "display_data"
    }
   ],
   "source": [
    "# Load the pre-trained model with ReLU activation\n",
    "model = load_model('imdb_sentiment.h5')\n",
    "model.summary()"
   ]
  },
  {
   "cell_type": "code",
   "execution_count": 19,
   "metadata": {},
   "outputs": [
    {
     "data": {
      "text/plain": [
       "[array([[ 8.8459146e-01,  9.0142757e-01,  8.2881314e-01, ...,\n",
       "         -9.1543567e-01, -9.7864956e-01, -8.6193079e-01],\n",
       "        [ 4.6282940e-02,  2.0201668e-02,  2.9202953e-03, ...,\n",
       "          7.5127126e-04, -2.7317254e-02,  1.9759517e-02],\n",
       "        [-6.0038470e-02, -8.5468844e-02, -1.9444785e-01, ...,\n",
       "          1.1600866e-01, -1.6720792e-02,  1.1554767e-01],\n",
       "        ...,\n",
       "        [ 1.9365741e-02,  2.4972616e-02, -1.6960526e-02, ...,\n",
       "          5.9349798e-02,  2.5363436e-03,  6.2366117e-02],\n",
       "        [ 2.5079180e-02,  9.2586845e-02,  8.5716404e-02, ...,\n",
       "         -8.2364097e-02, -5.7617892e-02,  4.6841290e-02],\n",
       "        [-1.3308173e-01, -1.3444227e-01, -7.9279773e-02, ...,\n",
       "          6.0571752e-02,  7.0783176e-02,  1.1827224e-01]], dtype=float32),\n",
       " array([[-1.1034276e-01, -6.9329798e-02, -3.8953051e-02, ...,\n",
       "          1.1948424e-01, -1.7899940e-02, -3.2881439e-02],\n",
       "        [ 7.6498687e-02, -1.8341836e-01,  3.6398016e-02, ...,\n",
       "         -1.0344335e-01, -4.6286896e-06, -8.5590072e-02],\n",
       "        [-1.0368435e-01,  3.8794369e-02, -8.6952381e-02, ...,\n",
       "          1.6173889e-01, -4.6310592e-02, -1.2605727e-01],\n",
       "        ...,\n",
       "        [ 4.2984493e-02,  1.3839927e-01, -1.6086681e-01, ...,\n",
       "          1.0800729e-01,  1.7693794e-01, -1.2863572e-01],\n",
       "        [-1.1022562e-01,  1.5550606e-01,  3.3681206e-02, ...,\n",
       "         -2.8737165e-02,  8.6866714e-02,  5.4004504e-03],\n",
       "        [ 1.5754557e-01,  1.9409487e-01, -1.8251984e-01, ...,\n",
       "          7.1615446e-03,  8.4544756e-02, -1.3503493e-01]], dtype=float32),\n",
       " array([[-0.0202247 ,  0.14028907, -0.04093327, ...,  0.03283842,\n",
       "          0.08195937, -0.0965037 ],\n",
       "        [-0.00796694,  0.03316947, -0.04424762, ..., -0.0510331 ,\n",
       "         -0.00043543,  0.2027714 ],\n",
       "        [ 0.05410178, -0.01292828,  0.03779267, ..., -0.10991669,\n",
       "          0.1813418 , -0.0219389 ],\n",
       "        ...,\n",
       "        [ 0.03167276,  0.1321171 , -0.08877083, ..., -0.10317668,\n",
       "         -0.05924055, -0.07354116],\n",
       "        [ 0.10050983,  0.12787056, -0.10176734, ...,  0.03614282,\n",
       "         -0.09705169,  0.04448139],\n",
       "        [-0.02611858, -0.22671711, -0.02352933, ..., -0.09074241,\n",
       "          0.09834433, -0.09502985]], dtype=float32),\n",
       " array([ 1.1005221e-02,  3.4288764e-02, -6.4791772e-03,  4.4724043e-02,\n",
       "        -2.9213401e-03,  2.6373498e-03, -5.6276005e-03, -1.1107840e-02,\n",
       "        -3.1045211e-02,  2.0014822e-02, -2.5084296e-03, -2.7915167e-02,\n",
       "         4.2605035e-02, -1.6215285e-02, -4.0763137e-03, -3.3654135e-02,\n",
       "         9.9660978e-03, -3.8853213e-02, -1.0905276e-02,  4.1347928e-02,\n",
       "         2.2024650e-02, -2.1137796e-02,  1.6794990e-01,  2.5558390e-02,\n",
       "        -7.8538395e-03, -1.5866226e-02, -1.4436611e-02, -7.7259727e-03,\n",
       "         6.8887129e-02,  2.8143965e-03, -2.5440310e-03, -1.0192962e-02,\n",
       "        -1.9226597e-03,  1.1387958e-02, -4.9980511e-03, -1.7251655e-02,\n",
       "        -2.9403064e-02,  1.2998503e-02,  3.3442222e-02,  2.1740092e-02,\n",
       "        -2.8848450e-03,  4.0686119e-02,  3.1592742e-02, -2.7502237e-03,\n",
       "        -2.8668201e-02, -1.7959848e-02,  4.1911565e-02,  8.9699897e-05,\n",
       "        -2.3623118e-02, -3.4490157e-02,  2.2311756e-02,  1.2783000e-02,\n",
       "        -1.8249070e-02, -6.1372355e-02, -1.8565122e-02, -1.8756969e-02,\n",
       "         1.6468455e-03, -2.7517349e-02,  1.7127100e-02,  4.0027507e-02,\n",
       "        -2.9620904e-02,  5.9147985e-03, -2.3248635e-02,  2.5099467e-03,\n",
       "        -2.5324734e-02, -3.5462562e-02,  2.1315476e-02,  3.4426257e-03,\n",
       "         2.1178454e-02, -8.2399836e-03,  1.7254222e-02, -3.0098286e-02,\n",
       "        -3.8994383e-02, -7.0731491e-03,  7.7000284e-03, -3.2901406e-02,\n",
       "        -1.5607077e-02, -1.6089974e-02,  1.5576876e-02, -1.8896665e-02,\n",
       "        -2.5298135e-02, -2.0165209e-02,  1.7409693e-02, -2.2975724e-02,\n",
       "        -4.0362142e-02, -1.0506344e-02, -8.7384635e-04, -1.8478950e-02,\n",
       "         1.5998078e-03,  7.1602548e-03, -2.5536047e-02, -4.0930461e-02,\n",
       "        -3.9557714e-02,  1.0582628e-02, -1.4108664e-02, -2.4178555e-02,\n",
       "         2.0131869e-02, -2.7528014e-02,  2.1974558e-02,  7.8229159e-03,\n",
       "        -2.1281088e-02, -2.3751257e-02, -3.7744742e-02,  3.0030045e-03,\n",
       "         5.1326479e-04, -2.2286845e-02,  4.3046381e-02, -1.8860314e-02,\n",
       "        -4.7199285e-04,  1.3597821e-02, -8.1622638e-03, -1.4177250e-02,\n",
       "        -1.7159661e-02, -1.6572881e-02,  4.2686712e-02, -1.4338733e-02,\n",
       "         3.5122085e-02, -2.4905004e-02,  7.2105690e-03, -2.1203766e-03,\n",
       "         2.0566782e-02, -1.5719233e-02, -1.0370542e-02,  4.1000534e-02,\n",
       "        -2.4273831e-02, -2.4603808e-02,  5.2853864e-02, -8.5088778e-03],\n",
       "       dtype=float32),\n",
       " array([[ 0.16698387],\n",
       "        [ 0.0829963 ],\n",
       "        [-0.07923327],\n",
       "        [ 0.06291326],\n",
       "        [ 0.1011308 ],\n",
       "        [-0.24491693],\n",
       "        [-0.16496295],\n",
       "        [ 0.01656503],\n",
       "        [-0.16167594],\n",
       "        [ 0.07317867],\n",
       "        [ 0.05735257],\n",
       "        [-0.00744915],\n",
       "        [ 0.03389561],\n",
       "        [-0.14840175],\n",
       "        [-0.02711917],\n",
       "        [ 0.03537643],\n",
       "        [-0.03699159],\n",
       "        [-0.10635965],\n",
       "        [-0.08163304],\n",
       "        [ 0.16623665],\n",
       "        [-0.0367499 ],\n",
       "        [ 0.1236442 ],\n",
       "        [-0.15725178],\n",
       "        [ 0.11725859],\n",
       "        [-0.424834  ],\n",
       "        [-0.00677561],\n",
       "        [-0.18424909],\n",
       "        [ 0.2638572 ],\n",
       "        [-0.10534438],\n",
       "        [ 0.00659522],\n",
       "        [-0.20126839],\n",
       "        [-0.0993152 ],\n",
       "        [-0.11465758],\n",
       "        [-0.06708843],\n",
       "        [-0.10722443],\n",
       "        [-0.31096223],\n",
       "        [-0.03271119],\n",
       "        [ 0.01887172],\n",
       "        [-0.08097213],\n",
       "        [ 0.1314169 ],\n",
       "        [ 0.06242707],\n",
       "        [ 0.05185508],\n",
       "        [-0.00436484],\n",
       "        [-0.06525644],\n",
       "        [-0.02540269],\n",
       "        [ 0.1265058 ],\n",
       "        [ 0.13896176],\n",
       "        [ 0.22554673],\n",
       "        [ 0.3309112 ],\n",
       "        [-0.0732554 ],\n",
       "        [ 0.01970605],\n",
       "        [ 0.06904661],\n",
       "        [-0.15526003],\n",
       "        [ 0.06191013],\n",
       "        [ 0.06534731],\n",
       "        [ 0.03564097],\n",
       "        [ 0.10388193],\n",
       "        [-0.06582116],\n",
       "        [ 0.12821142],\n",
       "        [-0.11286096],\n",
       "        [-0.15234336],\n",
       "        [ 0.24038556],\n",
       "        [-0.01950498],\n",
       "        [-0.00755621],\n",
       "        [ 0.09467077],\n",
       "        [ 0.22184773],\n",
       "        [-0.33515617],\n",
       "        [-0.31328896],\n",
       "        [-0.20487592],\n",
       "        [-0.20478535],\n",
       "        [ 0.17553222],\n",
       "        [ 0.18065596],\n",
       "        [-0.13634564],\n",
       "        [-0.30631718],\n",
       "        [-0.39871672],\n",
       "        [-0.28857142],\n",
       "        [-0.03359234],\n",
       "        [-0.07447004],\n",
       "        [ 0.02543024],\n",
       "        [ 0.07107528],\n",
       "        [-0.01430122],\n",
       "        [ 0.23920766],\n",
       "        [-0.2050346 ],\n",
       "        [-0.02485015],\n",
       "        [-0.1205536 ],\n",
       "        [ 0.03646582],\n",
       "        [-0.21440795],\n",
       "        [-0.11587199],\n",
       "        [-0.05346622],\n",
       "        [ 0.12934536],\n",
       "        [-0.11037888],\n",
       "        [-0.10510156],\n",
       "        [ 0.04538908],\n",
       "        [ 0.009764  ],\n",
       "        [ 0.0990717 ],\n",
       "        [-0.07278858],\n",
       "        [-0.26367396],\n",
       "        [-0.05712513],\n",
       "        [-0.01359866],\n",
       "        [-0.17718177],\n",
       "        [-0.2252689 ],\n",
       "        [-0.05940276],\n",
       "        [-0.0563555 ],\n",
       "        [ 0.00093693],\n",
       "        [-0.17988153],\n",
       "        [-0.19887215],\n",
       "        [ 0.07945779],\n",
       "        [-0.18742391],\n",
       "        [ 0.4218001 ],\n",
       "        [-0.18753201],\n",
       "        [ 0.07113899],\n",
       "        [-0.27728662],\n",
       "        [-0.16201094],\n",
       "        [-0.18697998],\n",
       "        [ 0.11844418],\n",
       "        [-0.18745367],\n",
       "        [-0.00042733],\n",
       "        [ 0.17572644],\n",
       "        [ 0.11572147],\n",
       "        [ 0.1099683 ],\n",
       "        [ 0.0441687 ],\n",
       "        [-0.05100337],\n",
       "        [ 0.17628169],\n",
       "        [ 0.07843661],\n",
       "        [-0.05886855],\n",
       "        [-0.13118652],\n",
       "        [ 0.01800871],\n",
       "        [-0.12626535]], dtype=float32),\n",
       " array([-0.23620348], dtype=float32)]"
      ]
     },
     "execution_count": 19,
     "metadata": {},
     "output_type": "execute_result"
    }
   ],
   "source": [
    "model.get_weights()"
   ]
  },
  {
   "cell_type": "code",
   "execution_count": 20,
   "metadata": {},
   "outputs": [],
   "source": [
    "# Step 2: Helper Functions\n",
    "# Function to decode reviews\n",
    "def decode_review(encoded_review):\n",
    "    return ' '.join([reverse_word_index.get(i - 3, '?') for i in encoded_review])\n",
    "\n",
    "# Function to preprocess user input\n",
    "def preprocess_text(text):\n",
    "    words = text.lower().split()\n",
    "    encoded_review = [word_index.get(word, 2) + 3 for word in words]\n",
    "    padded_review = sequence.pad_sequences([encoded_review], maxlen=500)\n",
    "    return padded_review"
   ]
  },
  {
   "cell_type": "code",
   "execution_count": 21,
   "metadata": {},
   "outputs": [
    {
     "name": "stdout",
     "output_type": "stream",
     "text": [
      "\u001b[1m1/1\u001b[0m \u001b[32m━━━━━━━━━━━━━━━━━━━━\u001b[0m\u001b[37m\u001b[0m \u001b[1m0s\u001b[0m 253ms/step\n",
      "Review: This movie was fantastic! The acting was great and the plot was thrilling.\n",
      "Sentiment: Negative\n",
      "Prediction Score: 0.1393601894378662\n"
     ]
    }
   ],
   "source": [
    "# Step 4: User Input and Prediction\n",
    "# Example review for prediction\n",
    "example_review = \"This movie was fantastic! The acting was great and the plot was thrilling.\"\n",
    "\n",
    "preprocessed_input=preprocess_text(example_review)\n",
    "prediction = model.predict(preprocessed_input)\n",
    "sentiment = 'Positive' if prediction[0][0] > 0.5 else 'Negative'\n",
    "\n",
    "print(f'Review: {example_review}')\n",
    "print(f'Sentiment: {sentiment}')\n",
    "print(f'Prediction Score: {prediction[0][0]}')"
   ]
  },
  {
   "cell_type": "code",
   "execution_count": null,
   "metadata": {},
   "outputs": [],
   "source": []
  },
  {
   "cell_type": "code",
   "execution_count": null,
   "metadata": {},
   "outputs": [],
   "source": []
  },
  {
   "cell_type": "code",
   "execution_count": null,
   "metadata": {},
   "outputs": [],
   "source": []
  },
  {
   "cell_type": "code",
   "execution_count": null,
   "metadata": {},
   "outputs": [],
   "source": []
  }
 ],
 "metadata": {
  "kernelspec": {
   "display_name": "Python 3",
   "language": "python",
   "name": "python3"
  },
  "language_info": {
   "codemirror_mode": {
    "name": "ipython",
    "version": 3
   },
   "file_extension": ".py",
   "mimetype": "text/x-python",
   "name": "python",
   "nbconvert_exporter": "python",
   "pygments_lexer": "ipython3",
   "version": "3.11.10"
  }
 },
 "nbformat": 4,
 "nbformat_minor": 2
}
